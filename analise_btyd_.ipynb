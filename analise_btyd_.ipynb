{
 "cells": [
  {
   "cell_type": "markdown",
   "id": "51edb1b9",
   "metadata": {},
   "source": [
    "## Modelo Buy Til You Die\n",
    "\n",
    "Objetivo desta análise é calcular a probabilidade de compra e vida útil do cliente com base em 3 fatores, Recencia, Frequência e Valor monetário de compra, para então sabermos quais os clientes mais valiosos ou não para o negócio e também ter a probabilidade de compra do cliente.\n",
    "\n",
    "Em seguida vamos unir a pontuação de probabilidade de vida, com outras métricas do cliente como helthscore, taxa de reclamações, problemas com entrega e defeitos de produto e criar um indicador final que reflita toda a saude do cliente e sua probabilidade de churn.\n",
    "\n",
    "https://pypi.org/project/Lifetimes/0.6.0.0/\n",
    "https://lifetimes.readthedocs.io/en/latest/Quickstart.html\n",
    "https://www.youtube.com/watch?v=DJ3r0r1h5Pg"
   ]
  },
  {
   "cell_type": "code",
   "execution_count": 1,
   "id": "b719b42a",
   "metadata": {},
   "outputs": [],
   "source": [
    "#!pip install redshift_connector\n",
    "#!pip install lifetimes\n",
    "#!pip install --upgrade lifetimes"
   ]
  },
  {
   "cell_type": "code",
   "execution_count": 2,
   "id": "f6a8927e",
   "metadata": {},
   "outputs": [],
   "source": [
    "# Importando os pacotes básicos\n",
    "import pandas as pd\n",
    "import matplotlib.pyplot as plt\n",
    "import redshift_connector\n",
    "import cx_Oracle"
   ]
  },
  {
   "cell_type": "markdown",
   "id": "c8738301",
   "metadata": {},
   "source": [
    "## 0 - Sumario"
   ]
  },
  {
   "cell_type": "markdown",
   "id": "4f33c0f6",
   "metadata": {},
   "source": [
    "<br/> 1 - Carregando o Dataset. <br/>\n",
    "<br/> 2 - Tratamento dos dados. <br/>\n",
    "<br/> 3 - Criando a matrix RFM (Recency, Frequency, Monetary Value). <br/>\n",
    "<br/> 4 - Fazendo fit do modelo e criando alguns gráficos para análise RFM. <br/>\n",
    "<br/> 5 - Probabilidade transações futuras com modelo Gamma-Gamma. <br/>\n",
    "<br/> 6 - Fazendo previsão de transações futuras de um único cliente com .predict. <br/>\n",
    "<br/> 7 - Filtrando e analisando clientes que fizeram mais de uma compra. <br/>\n",
    "<br/> 8 - Treinando o modelo Gamma Gamma considerando o valor monetário. <br/>\n",
    "<br/> 9 - Prevendo a média de valor de transação para cada cliente. <br/>\n",
    "<br/> 10 - Calculando o CLV dos clientes nos próximos 12 meses. <br/>\n",
    "<br/> 11 - Gerando um novo dataset com base nos calculos feitos. <br/>"
   ]
  },
  {
   "cell_type": "markdown",
   "id": "6b9ec64e",
   "metadata": {},
   "source": [
    "## 1 - Carregando os datasets"
   ]
  },
  {
   "cell_type": "code",
   "execution_count": null,
   "id": "3f9708e8",
   "metadata": {},
   "outputs": [],
   "source": [
    "# Connects to Redshift cluster using AWS credentials\n",
    "conn = redshift_connector.connect(\n",
    "    host='',\n",
    "    database='',\n",
    "    user='',\n",
    "    password=''\n",
    " )\n",
    "\n",
    "cursor: redshift_connector.Cursor = conn.cursor()\n",
    "\n",
    "\n",
    "# Dataset \n",
    "sql_count_produtos_cli = \"\"\"\n",
    "with base_dados as (\n",
    "SELECT \n",
    "f_items.cd_pedido,\n",
    "f_orders.cd_cliente,\n",
    "f_items.cd_produto,\n",
    "f_items.vlr_total,\n",
    "f_items.dt_pedido,\n",
    "d_products.ds_nivel,\n",
    "d_products.ds_cor,\n",
    "d_products.ds_tamanho,\n",
    "d_products.ds_marca,\n",
    "d_products.ds_categoria,\n",
    "d_products.ds_colecao,\n",
    "d_products.fx_preco,\n",
    "d_products.ds_tipo\n",
    "FROM \n",
    "public.f_items\n",
    "left join public.d_products on f_items.cd_produto = d_products.cd_produto\n",
    "left join public.f_orders on f_orders.cd_pedido = f_items.cd_pedido\n",
    "inner join public.sts_clients_stats on sts_clients_stats.cd_cliente = f_orders.cd_cliente\n",
    "where \n",
    "f_orders.dt_pedido >= '2021-01-01'\n",
    ")\n",
    "select\n",
    "base_dados.cd_cliente,\n",
    "count(distinct base_dados.cd_produto) as count_cd_produto,\n",
    "count(distinct base_dados.ds_nivel) as count_ds_nivel,\n",
    "count(distinct base_dados.ds_cor) as count_ds_cor,\n",
    "count(distinct base_dados.ds_tamanho) as count_ds_tamanho,\n",
    "count(distinct base_dados.ds_marca) as count_ds_marca,\n",
    "count(distinct base_dados.ds_categoria) as count_ds_categoria,\n",
    "count(distinct base_dados.ds_colecao) as count_ds_colecao,\n",
    "count(distinct base_dados.fx_preco) as count_fx_preco,\n",
    "count(distinct base_dados.ds_tipo) as count_ds_tipo\n",
    "FROM \n",
    "base_dados\n",
    "group by \n",
    "base_dados.cd_cliente\n",
    ";\n",
    "\"\"\"\n",
    "\n",
    "\n",
    "cursor: redshift_connector.Cursor = conn.cursor()\n",
    "cursor.execute(sql_count_produtos_cli)\n",
    "sql_count_produtos_cli: pd.DataFrame = cursor.fetch_dataframe() \n",
    "dataset_count_produtos_cli = pd.DataFrame(sql_count_produtos_cli)\n",
    "dataset_count_produtos_cli.to_csv('outros_dados/count_produtos_cli.csv', index=False,encoding='utf-8', header=True)\n",
    "cursor.close()\n",
    "conn.close()"
   ]
  },
  {
   "cell_type": "markdown",
   "id": "6adf2e2d",
   "metadata": {},
   "source": [
    "## 1 - Carregando o Dataset"
   ]
  },
  {
   "cell_type": "code",
   "execution_count": null,
   "id": "6d12201c",
   "metadata": {
    "scrolled": true
   },
   "outputs": [],
   "source": [
    "# Carregando o dataste\n",
    "dataset = pd.read_csv('outros_dados/dataset_analise_BTYD.csv')\n",
    "#dataset.columns"
   ]
  },
  {
   "cell_type": "code",
   "execution_count": null,
   "id": "84ce424f",
   "metadata": {},
   "outputs": [],
   "source": [
    "# Passando os dados para Dataframe e verificando se possui valores NA\n",
    "df_analise = pd.DataFrame(dataset)\n",
    "#df_analise.info()"
   ]
  },
  {
   "cell_type": "markdown",
   "id": "c6e598f9",
   "metadata": {},
   "source": [
    "## 2 - Tratamento dos dados"
   ]
  },
  {
   "cell_type": "code",
   "execution_count": null,
   "id": "072df625",
   "metadata": {},
   "outputs": [],
   "source": [
    "# Nesta fase vamos fazer a filtragem dos dados apenas para clientes que possuem frequência de compra > 0\n",
    "# Vamos também fazer o tratamento da coluna data\n",
    "df_analise['dt_pedido'] = df_analise['dt_pedido'] = pd.to_datetime(df_analise['dt_pedido'], format='%Y-%m-%d')"
   ]
  },
  {
   "cell_type": "code",
   "execution_count": null,
   "id": "869a40b8",
   "metadata": {},
   "outputs": [],
   "source": [
    "# Filtando o dataset apenas para valores positivos\n",
    "df_analise.loc[:, 'vlr_real'] = df_analise.loc[:, 'vlr_real'].where(df_analise.loc[:, 'vlr_real'] > 0)\n",
    "df_analise = df_analise.dropna()"
   ]
  },
  {
   "cell_type": "code",
   "execution_count": null,
   "id": "32f9b4b8",
   "metadata": {},
   "outputs": [],
   "source": [
    "# Fazendo a filtragem necessária das colunas e atribuindo um novo nome ao dataset\n",
    "df = df_analise.loc[:, ('cd_cliente','dt_pedido','vlr_real')]\n",
    "#df"
   ]
  },
  {
   "cell_type": "code",
   "execution_count": null,
   "id": "4d83d589",
   "metadata": {},
   "outputs": [],
   "source": [
    "# Vamos buscar os códigos de cliente únicos\n",
    "#print(df['cd_cliente'].nunique())"
   ]
  },
  {
   "cell_type": "code",
   "execution_count": null,
   "id": "0120d49e",
   "metadata": {},
   "outputs": [],
   "source": [
    "# Vamos verificar os pedidos feitos\n",
    "ultimo_pedido = df['dt_pedido'].max()\n",
    "#ultimo_pedido\n",
    "#print(df[(df['cd_cliente']==68520)])"
   ]
  },
  {
   "cell_type": "markdown",
   "id": "fb738a80",
   "metadata": {},
   "source": [
    "## 3 - Criando a matrix RFM (Recency, Frequency, Monetary Value)\n",
    "Agora que vai começar o nosso trabalho de análise de probabilidade, com base no pacote lifetimes"
   ]
  },
  {
   "cell_type": "code",
   "execution_count": null,
   "id": "aeeecb01",
   "metadata": {},
   "outputs": [],
   "source": [
    "# Vamos usar a função do pacote lifetime para criar a matrix RFM automaticamente\n",
    "# Com base nas 3 colunas que ja temos filtradas no nosso dataset\n",
    "from lifetimes.utils import summary_data_from_transaction_data\n",
    "df_btyd = summary_data_from_transaction_data(df, 'cd_cliente', 'dt_pedido', monetary_value_col='vlr_real')\n",
    "#df_btyd"
   ]
  },
  {
   "cell_type": "markdown",
   "id": "e8082891",
   "metadata": {},
   "source": [
    "<br/> cd_cliente - Código do cliente <br/>\n",
    "\n",
    "<br/> Frequency - representa o número de compras repetidas que o cliente fez. Isso significa que é um a menos que o número total de compras. Na verdade, isso está um pouco errado. É a contagem de períodos de tempo distintos em que o cliente fez uma compra, ou meses ou anos.\n",
    "Portanto, se estiver usando dias como unidades, é a contagem de dias distintos em que o cliente fez uma compra. <br/>\n",
    "\n",
    "<br/> T - representa a idade do cliente em qualquer unidade de tempo escolhida. Isso é igual à duração entre a primeira compra de um cliente e o final do período em estudo. <br/>\n",
    "\n",
    "<br/> Recency - representa a idade do cliente no momento em que fez suas compras mais recentes. Isso é igual à duração entre a primeira compra de um cliente e sua última compra. (Portanto, se eles fizeram apenas 1 compra, o tempo para retorno é 0.). <br/>"
   ]
  },
  {
   "cell_type": "code",
   "execution_count": null,
   "id": "44db2564",
   "metadata": {},
   "outputs": [],
   "source": [
    "# Vamos criar um histograma para ver a distribuição de frequencia de compra dos nossos clientes\n",
    "# Também vamos imprimir algumas métricas sobre a frequencia de compra de nossos clinetes\n",
    "#%matplotlib inline\n",
    "#df_btyd['frequency'].plot(kind = 'hist', bins = 50)\n",
    "\n",
    "\n",
    "#print(df_btyd['frequency'].describe())\n",
    "#just_one_buy = round(sum(df_btyd['frequency'] == 0)/float(len(df_btyd))*(100),2)\n",
    "#print(\"Percentual de clientes que compraram apenas uma vez:\", just_one_buy,\"%\")"
   ]
  },
  {
   "cell_type": "markdown",
   "id": "d3dec380",
   "metadata": {},
   "source": [
    "## 4 - Fazendo fit do modelo e criando alguns gráficos para análise RFM"
   ]
  },
  {
   "cell_type": "code",
   "execution_count": null,
   "id": "b5ff3f04",
   "metadata": {},
   "outputs": [],
   "source": [
    "# Treinando o modelo\n",
    "from lifetimes import BetaGeoFitter\n",
    "bgf = BetaGeoFitter(penalizer_coef=1)\n",
    "bgf.fit(df_btyd['frequency'], df_btyd['recency'], df_btyd['T'])"
   ]
  },
  {
   "cell_type": "code",
   "execution_count": null,
   "id": "fae256f7",
   "metadata": {},
   "outputs": [],
   "source": [
    "# Avaliando o modelo\n",
    "from lifetimes.utils import calibration_and_holdout_data\n",
    "\n",
    "summary_cal_holdout = calibration_and_holdout_data(df_analise, 'cd_cliente', 'dt_pedido',\n",
    "                                        calibration_period_end='2021-09-01',\n",
    "                                        observation_period_end='2021-12-31' )\n",
    "#print(summary_cal_holdout.head())"
   ]
  },
  {
   "cell_type": "code",
   "execution_count": null,
   "id": "f213e7aa",
   "metadata": {},
   "outputs": [],
   "source": [
    "from lifetimes.plotting import plot_calibration_purchases_vs_holdout_purchases\n",
    "\n",
    "bgf.fit(df_btyd['frequency'], df_btyd['recency'], df_btyd['T'])\n",
    "#plot_calibration_purchases_vs_holdout_purchases(bgf, summary_cal_holdout)"
   ]
  },
  {
   "cell_type": "code",
   "execution_count": null,
   "id": "13514fba",
   "metadata": {},
   "outputs": [],
   "source": [
    "# Vamos vizualizar um gráfico de Frequencia / Recencia matrix\n",
    "# Vou optar por fazer a importação apenas no momento do usa para deixar claro o uso de cada import\n",
    "#%matplotlib inline\n",
    "#from lifetimes.plotting import plot_frequency_recency_matrix\n",
    "#fig = plt.figure(figsize=(12,8))\n",
    "#plt.style.use('fivethirtyeight')\n",
    "#plot_frequency_recency_matrix(bgf, cmap = 'gnuplot', T = 30)\n"
   ]
  },
  {
   "cell_type": "markdown",
   "id": "0d32ff2f",
   "metadata": {},
   "source": [
    "### Interpretando o gráfico plot_frequency_recency_matrix\n",
    "Podemos ver que os clientes com maior probilidade de compra, são aqueles que mesmo com uma alta recencia possuem uma alta frequencia de compra, olhando a parte amarela do gráfico.\n",
    "\n"
   ]
  },
  {
   "cell_type": "code",
   "execution_count": null,
   "id": "47073859",
   "metadata": {},
   "outputs": [],
   "source": [
    "# Criando um gráfico de probabilidade de vida do cliente\n",
    "#from lifetimes.plotting import plot_probability_alive_matrix\n",
    "#fig = plt.figure(figsize=(12,8))\n",
    "#plt.style.use('fivethirtyeight')\n",
    "#plot_probability_alive_matrix(bgf, cmap = 'gnuplot')"
   ]
  },
  {
   "cell_type": "markdown",
   "id": "8b7596c5",
   "metadata": {},
   "source": [
    "### Interpretando o gráfico plot_probability_alive_matrix\n",
    "Os clientes bons são aqueles que podem possuir uma grande recencia e grande frequencia de compras, queles com pouca recencia mas uma boa frequencia ou clientes que compraram recentemente.Esse gráfico delimita um range temporal da primeira compra e ultima e dentro deste range ele verifica a frequencia de compras e com base nisto ele tem a probabilidade de vida do cliente. Por isso clientes com longo perioso e alta frequencia são clientes com baixa chance de cancelamento dos serviços(ou seja morte)."
   ]
  },
  {
   "cell_type": "markdown",
   "id": "c564e421",
   "metadata": {},
   "source": [
    "## 5 - Probabilidade transações futuras com modelo Gamma-Gamma\n",
    "\n",
    "Com o modelo GammaGamma vamos ter a previsão do valor de vida do cliente, número esperado de transações e receita esperada. Um ponto importante para o modelo GammaGamma é que ele parte da premissa de que não a correlação entre valor monetário e recencia, o que pode não ser a realidade em alguns casos, pois o cliente pode comprar grandes quantidades para diminuir o número de transações e custos agregados ao mesmo"
   ]
  },
  {
   "cell_type": "code",
   "execution_count": null,
   "id": "53f9d02a",
   "metadata": {},
   "outputs": [],
   "source": [
    "# Vamos usar os dados histórios e prever as transações dos próximos 30/60/90 dias dos top 10 clientes\n",
    "# Estamos utilizando o numero esperado condicional \n",
    "\n",
    "df_btyd['pred_num_trans_30'] = round(bgf.conditional_expected_number_of_purchases_up_to_time(30, \n",
    "                                                                                          df_btyd['frequency'],\n",
    "                                                                                         df_btyd['recency'],\n",
    "                                                                                         df_btyd['T']),2)\n",
    "\n",
    "\n",
    "#df_btyd.sort_values(by = 'pred_num_trans_30', ascending=False).head(10).reset_index()"
   ]
  },
  {
   "cell_type": "markdown",
   "id": "c82ad27f",
   "metadata": {},
   "source": [
    "### Interpretando conditional_expected_number_of_purchases_up_to_time\n",
    "A coluna pred_num_trans vai informar o numero de transações esperada nos próximos 30 dias dos nossos top 10 clientes com base nos calculos do modelo"
   ]
  },
  {
   "cell_type": "code",
   "execution_count": null,
   "id": "54e0a86a",
   "metadata": {},
   "outputs": [],
   "source": [
    "# Vamos avaliar nosso modelo verificar se nossas previsões fazem sentido\n",
    "#from lifetimes.plotting import plot_period_transactions\n",
    "#fig = plt.figure(figsize=(12,8))\n",
    "#plot_period_transactions(bgf)"
   ]
  },
  {
   "cell_type": "markdown",
   "id": "7fa85255",
   "metadata": {},
   "source": [
    "### Interpretando plot_period_transactions\n",
    "Podemos ver que o nosso modelo não está ruim, pois as barras de previsão X real estão bem próximas"
   ]
  },
  {
   "cell_type": "markdown",
   "id": "db1f2923",
   "metadata": {},
   "source": [
    "## 6 - Fazendo previsão de transações futuras de um único cliente com .predict"
   ]
  },
  {
   "cell_type": "code",
   "execution_count": null,
   "id": "80a57759",
   "metadata": {},
   "outputs": [],
   "source": [
    "# Previsão de transações futuras de um único cliente\n",
    "#t = 30\n",
    "#individuo = df_btyd.loc[33816]\n",
    "#print('Número de transações esperadas nos próximos 30 dias:',bgf.predict(t, \n",
    "                                                                         #individuo['frequency'],\n",
    "                                                                         #individuo['recency'],\n",
    "                                                                         #individuo['T']),'transações')"
   ]
  },
  {
   "cell_type": "code",
   "execution_count": null,
   "id": "1813cec9",
   "metadata": {},
   "outputs": [],
   "source": [
    "# Validando o modelo Gamma Gamma vamos verificar a correlação entre o valor monetário da transação com a frequencia de compras\n",
    "# Podemos perceber que existe uma correlação entre ambos, porém irei manter o estudo do GammaGamma\n",
    "# Mais para frente verificaremos a possibilidade de usar um modelo que considera a relação entre ambos\n",
    "#df_btyd[['monetary_value','frequency']].corr()"
   ]
  },
  {
   "cell_type": "markdown",
   "id": "0bdd20d9",
   "metadata": {},
   "source": [
    "## 7 - Filtrando e analisando clientes que fizeram mais de uma compra\n"
   ]
  },
  {
   "cell_type": "code",
   "execution_count": null,
   "id": "93fb3308",
   "metadata": {},
   "outputs": [],
   "source": [
    "shortlisted_costumers = df_btyd[df_btyd['frequency']>0]\n",
    "#print(shortlisted_costumers.head().reset_index())\n",
    "#print('--------------------------------------------------')\n",
    "#print('Número total de clientes com freq > 0:',len(shortlisted_costumers))"
   ]
  },
  {
   "cell_type": "markdown",
   "id": "92b34cb1",
   "metadata": {},
   "source": [
    "## 8 - Treinando o modelo Gamma Gamma considerando o valor monetário"
   ]
  },
  {
   "cell_type": "code",
   "execution_count": null,
   "id": "4b0da26c",
   "metadata": {},
   "outputs": [],
   "source": [
    "# Fazendo importação do modelo e treinando com os dados filtrados de clientes que repetiram compra pelo menos 1 vez\n",
    "from lifetimes import GammaGammaFitter\n",
    "ggf = GammaGammaFitter(penalizer_coef=0.0)\n",
    "ggf.fit(shortlisted_costumers['frequency'],\n",
    "       shortlisted_costumers['monetary_value'] ,q_constraint = True)\n",
    "print(ggf)"
   ]
  },
  {
   "cell_type": "markdown",
   "id": "f1e49500",
   "metadata": {},
   "source": [
    "## 9 - Prevendo a média de valor de transação para cada cliente"
   ]
  },
  {
   "cell_type": "code",
   "execution_count": null,
   "id": "cd555164",
   "metadata": {},
   "outputs": [],
   "source": [
    "# Vamos fazer a previsão por cliente e imprimir os 10 primeiros resultados\n",
    "print(ggf.conditional_expected_average_profit(\n",
    "df_btyd['frequency'],\n",
    "df_btyd['monetary_value']))"
   ]
  },
  {
   "cell_type": "code",
   "execution_count": null,
   "id": "2c325a93",
   "metadata": {},
   "outputs": [],
   "source": [
    "# Agora vamos incluir no dataset a coluna com o valor médio de transação previsto pelo modelo\n",
    "# Essa é a media esperada por transação\n",
    "df_btyd['pred_trans_avg_value'] = round(ggf.conditional_expected_average_profit(\n",
    "    df_btyd['frequency'],\n",
    "    df_btyd['monetary_value']),2)\n"
   ]
  },
  {
   "cell_type": "markdown",
   "id": "cda74e12",
   "metadata": {},
   "source": [
    "Com base nestas previsões podemos criar estratégias para atingir os clientes com maior potencial de valor monetário e também otimizar aqueles clientes com potencial médio ou baixo."
   ]
  },
  {
   "cell_type": "markdown",
   "id": "97203f15",
   "metadata": {},
   "source": [
    "## 10 - Calculando o CLV dos clientes nos próximos 12 meses\n",
    "\n",
    "#### frequency :\n",
    "Representa o número de compras repetidas que o cliente fez. Isso significa que é um a menos que o número total de compras. Na verdade, isso está um pouco errado. É a contagem de períodos de tempo em que o cliente fez uma compra. Portanto, se estiver usando dias como unidades, é a contagem de dias em que o cliente fez uma compra.\n",
    "#### T : \n",
    "Representa a idade do cliente em quaisquer unidades de tempo escolhidas, Isso é igual à duração entre a primeira compra de um cliente e o final do período em estudo.\n",
    "#### recency :\n",
    "Representa a idade do cliente no momento em que fez suas compras mais recentes. Isso é igual à duração entre a primeira compra de um cliente e sua última compra. (Portanto, se eles fizeram apenas 1 compra, o tempo para retorno é 0.)\n",
    "#### monetary_value :\n",
    "Representa o valor médio das compras de um determinado cliente. Isso é igual à soma de todas as compras de um cliente dividida pelo número total de compras. Observe que o denominador aqui é diferente do frequencydescrito acima."
   ]
  },
  {
   "cell_type": "code",
   "execution_count": null,
   "id": "7edeae1f",
   "metadata": {},
   "outputs": [],
   "source": [
    "# Vamos criar uma nova coluna CLV no nosso dataframe\n",
    "from lifetimes.utils import _customer_lifetime_value\n",
    "\n",
    "df_btyd['CLV'] = round(ggf.customer_lifetime_value(\n",
    "    bgf, # Modelo para prever o numero de transações futuras\n",
    "    df_btyd['frequency'],\n",
    "    df_btyd['recency'],\n",
    "    df_btyd['T'],\n",
    "    df_btyd['monetary_value'],\n",
    "    time = 12, # 12 meses\n",
    "    discount_rate = 0.01 # Parametro para ajuste de variações de valor futuras\n",
    "),2)\n",
    "df_btyd = df_btyd.sort_values(by='CLV', ascending=False).reset_index()\n",
    "df_btyd"
   ]
  },
  {
   "cell_type": "code",
   "execution_count": null,
   "id": "ef573303",
   "metadata": {},
   "outputs": [],
   "source": [
    "# Calculando a probabilidade do cliente estar vivo\n",
    "\n",
    "df_btyd['prob_alive'] = bgf.conditional_probability_alive(df_btyd['frequency'],df_btyd['recency'],df_btyd['T'])"
   ]
  },
  {
   "cell_type": "code",
   "execution_count": null,
   "id": "8442737d",
   "metadata": {},
   "outputs": [],
   "source": [
    "df_btyd.shape"
   ]
  },
  {
   "cell_type": "markdown",
   "id": "63ea0734",
   "metadata": {},
   "source": [
    "Com está informação podemos listar os clientes provavelmente mais ou menos rentaveis e direcionar nossos esforços para otimiza-los, aumentando assim nossa receita."
   ]
  },
  {
   "cell_type": "markdown",
   "id": "c1011bbc",
   "metadata": {},
   "source": [
    "## 11 - Gerando um novo dataset com base nos calculos feitos"
   ]
  },
  {
   "cell_type": "code",
   "execution_count": null,
   "id": "4e657bb0",
   "metadata": {},
   "outputs": [],
   "source": [
    "# Gerando o dataset para análise da probabilidade de compra dos clientes\n",
    "\n",
    "df_btyd.to_csv('BTYD_probs.csv', index=False, header = True)"
   ]
  },
  {
   "cell_type": "code",
   "execution_count": null,
   "id": "3fbe4c93",
   "metadata": {},
   "outputs": [],
   "source": [
    "df_btyd.sort_values('prob_alive',ascending=False)"
   ]
  }
 ],
 "metadata": {
  "kernelspec": {
   "display_name": "Python 3 (ipykernel)",
   "language": "python",
   "name": "python3"
  },
  "language_info": {
   "codemirror_mode": {
    "name": "ipython",
    "version": 3
   },
   "file_extension": ".py",
   "mimetype": "text/x-python",
   "name": "python",
   "nbconvert_exporter": "python",
   "pygments_lexer": "ipython3",
   "version": "3.9.13"
  }
 },
 "nbformat": 4,
 "nbformat_minor": 5
}
